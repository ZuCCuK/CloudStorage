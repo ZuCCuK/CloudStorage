{
  "nbformat": 4,
  "nbformat_minor": 0,
  "metadata": {
    "colab": {
      "provenance": [],
      "gpuType": "T4",
      "name": "Torch00.ipynb",
      "authorship_tag": "ABX9TyP/3Rn+BAz1fcmtWX/F0Ooa",
      "include_colab_link": true
    },
    "kernelspec": {
      "name": "python3",
      "display_name": "Python 3"
    },
    "language_info": {
      "name": "python"
    },
    "gpuClass": "standard",
    "accelerator": "GPU"
  },
  "cells": [
    {
      "cell_type": "markdown",
      "metadata": {
        "id": "view-in-github",
        "colab_type": "text"
      },
      "source": [
        "<a href=\"https://colab.research.google.com/github/ZuCCuK/CloudStorage/blob/main/Torch00.ipynb\" target=\"_parent\"><img src=\"https://colab.research.google.com/assets/colab-badge.svg\" alt=\"Open In Colab\"/></a>"
      ]
    },
    {
      "cell_type": "markdown",
      "source": [
        "# PyTorch Fundementals\n",
        "0.0\n"
      ],
      "metadata": {
        "id": "R8biVJCVuu-i"
      }
    },
    {
      "cell_type": "code",
      "execution_count": null,
      "metadata": {
        "colab": {
          "base_uri": "https://localhost:8080/"
        },
        "id": "QULY68EEPm5v",
        "outputId": "790ab9af-bcb8-4246-e780-aecfbb442e07"
      },
      "outputs": [
        {
          "output_type": "stream",
          "name": "stdout",
          "text": [
            "2.0.0+cu118\n"
          ]
        }
      ],
      "source": [
        "import pandas as pd\n",
        "import numpy as np \n",
        "import matplotlib.pyplot as plt\n",
        "import torch\n",
        "print(torch.__version__)\n"
      ]
    },
    {
      "cell_type": "markdown",
      "source": [
        "# İntroduction to Tensors"
      ],
      "metadata": {
        "id": "4TF4lQwp0CHu"
      }
    },
    {
      "cell_type": "markdown",
      "source": [
        "### Creating tensors"
      ],
      "metadata": {
        "id": "4uN8zsLU0Ioi"
      }
    },
    {
      "cell_type": "code",
      "source": [
        "#scalar"
      ],
      "metadata": {
        "id": "8-oruSX_fMv6"
      },
      "execution_count": null,
      "outputs": []
    },
    {
      "cell_type": "code",
      "source": [
        "scalar=torch.tensor(7)\n",
        "scalar"
      ],
      "metadata": {
        "colab": {
          "base_uri": "https://localhost:8080/"
        },
        "id": "HL2Q3hk808LR",
        "outputId": "4ce73d23-d29d-4aa0-df9d-a267a532cbde"
      },
      "execution_count": null,
      "outputs": [
        {
          "output_type": "execute_result",
          "data": {
            "text/plain": [
              "tensor(7)"
            ]
          },
          "metadata": {},
          "execution_count": 3
        }
      ]
    },
    {
      "cell_type": "code",
      "source": [
        "scalar.ndim\n",
        "#Dimension sayısını döndürür"
      ],
      "metadata": {
        "colab": {
          "base_uri": "https://localhost:8080/"
        },
        "id": "ggz-h9Zj08Nb",
        "outputId": "a8bbaa33-d235-4dc6-e86b-b981ca8f7a69"
      },
      "execution_count": null,
      "outputs": [
        {
          "output_type": "execute_result",
          "data": {
            "text/plain": [
              "0"
            ]
          },
          "metadata": {},
          "execution_count": 4
        }
      ]
    },
    {
      "cell_type": "code",
      "source": [
        "scalar.item()\n",
        "#Tensoru int değeri olarak döndürür"
      ],
      "metadata": {
        "colab": {
          "base_uri": "https://localhost:8080/"
        },
        "id": "aMB9JtuX08P6",
        "outputId": "41cae8ec-669d-4c29-b323-eb9b2b42c57a"
      },
      "execution_count": null,
      "outputs": [
        {
          "output_type": "execute_result",
          "data": {
            "text/plain": [
              "7"
            ]
          },
          "metadata": {},
          "execution_count": 5
        }
      ]
    },
    {
      "cell_type": "code",
      "source": [
        "vector = torch.tensor([7,7])\n",
        "vector"
      ],
      "metadata": {
        "colab": {
          "base_uri": "https://localhost:8080/"
        },
        "id": "a8QbL7Im-z1O",
        "outputId": "b7d3dab5-50c2-47eb-adea-8243fcecfdb9"
      },
      "execution_count": null,
      "outputs": [
        {
          "output_type": "execute_result",
          "data": {
            "text/plain": [
              "tensor([7, 7])"
            ]
          },
          "metadata": {},
          "execution_count": 6
        }
      ]
    },
    {
      "cell_type": "code",
      "source": [
        "vector.ndim"
      ],
      "metadata": {
        "colab": {
          "base_uri": "https://localhost:8080/"
        },
        "id": "qeUsclbzCo_f",
        "outputId": "f1044981-a883-4956-f124-d65a3ba43ca5"
      },
      "execution_count": null,
      "outputs": [
        {
          "output_type": "execute_result",
          "data": {
            "text/plain": [
              "1"
            ]
          },
          "metadata": {},
          "execution_count": 7
        }
      ]
    },
    {
      "cell_type": "code",
      "source": [
        "vector.shape"
      ],
      "metadata": {
        "colab": {
          "base_uri": "https://localhost:8080/"
        },
        "id": "uI46IVm0CxWe",
        "outputId": "9926a7fc-8691-48cf-c1b8-21c3e7aa2d3d"
      },
      "execution_count": null,
      "outputs": [
        {
          "output_type": "execute_result",
          "data": {
            "text/plain": [
              "torch.Size([2])"
            ]
          },
          "metadata": {},
          "execution_count": 8
        }
      ]
    },
    {
      "cell_type": "code",
      "source": [
        "#Matrix\n",
        "matrix = torch.tensor([[9,0],\n",
        "                       [1,4]])\n",
        "matrix"
      ],
      "metadata": {
        "colab": {
          "base_uri": "https://localhost:8080/"
        },
        "id": "ZRBlfJ6MC3Lt",
        "outputId": "dd2dbbdf-964c-4f82-ccff-04defab55344"
      },
      "execution_count": null,
      "outputs": [
        {
          "output_type": "execute_result",
          "data": {
            "text/plain": [
              "tensor([[9, 0],\n",
              "        [1, 4]])"
            ]
          },
          "metadata": {},
          "execution_count": 9
        }
      ]
    },
    {
      "cell_type": "code",
      "source": [
        "matrix[0]"
      ],
      "metadata": {
        "id": "U9E0qYnpC-eA",
        "colab": {
          "base_uri": "https://localhost:8080/"
        },
        "outputId": "5f9abadc-c68f-47eb-fcae-83586ef352f7"
      },
      "execution_count": null,
      "outputs": [
        {
          "output_type": "execute_result",
          "data": {
            "text/plain": [
              "tensor([9, 0])"
            ]
          },
          "metadata": {},
          "execution_count": 10
        }
      ]
    },
    {
      "cell_type": "code",
      "source": [
        "matrix.shape"
      ],
      "metadata": {
        "colab": {
          "base_uri": "https://localhost:8080/"
        },
        "id": "BbEiV-6FyoQi",
        "outputId": "5f0b5ed2-7af9-4b75-bf0c-94564a137655"
      },
      "execution_count": null,
      "outputs": [
        {
          "output_type": "execute_result",
          "data": {
            "text/plain": [
              "torch.Size([2, 2])"
            ]
          },
          "metadata": {},
          "execution_count": 11
        }
      ]
    },
    {
      "cell_type": "code",
      "source": [
        "#Tensros\n",
        "tensor = torch.tensor([[[0,2,4],\n",
        "                        [1,3,5],\n",
        "                        [6,7,8]]])\n",
        "tensor"
      ],
      "metadata": {
        "colab": {
          "base_uri": "https://localhost:8080/"
        },
        "id": "wb1EjrHevOEH",
        "outputId": "d3084d24-3141-499f-be0f-a44eae06b2a1"
      },
      "execution_count": null,
      "outputs": [
        {
          "output_type": "execute_result",
          "data": {
            "text/plain": [
              "tensor([[[0, 2, 4],\n",
              "         [1, 3, 5],\n",
              "         [6, 7, 8]]])"
            ]
          },
          "metadata": {},
          "execution_count": 12
        }
      ]
    },
    {
      "cell_type": "code",
      "source": [
        "tensor.ndim "
      ],
      "metadata": {
        "colab": {
          "base_uri": "https://localhost:8080/"
        },
        "id": "Nctgp76YzNAC",
        "outputId": "d046cbbe-8d35-4477-8051-65f8b7f3f099"
      },
      "execution_count": null,
      "outputs": [
        {
          "output_type": "execute_result",
          "data": {
            "text/plain": [
              "3"
            ]
          },
          "metadata": {},
          "execution_count": 13
        }
      ]
    },
    {
      "cell_type": "code",
      "source": [
        "tensor.shape"
      ],
      "metadata": {
        "colab": {
          "base_uri": "https://localhost:8080/"
        },
        "id": "sZvoe2H0zXZK",
        "outputId": "9f0a81e2-7de6-487b-f3be-e21973a34003"
      },
      "execution_count": null,
      "outputs": [
        {
          "output_type": "execute_result",
          "data": {
            "text/plain": [
              "torch.Size([1, 3, 3])"
            ]
          },
          "metadata": {},
          "execution_count": 14
        }
      ]
    },
    {
      "cell_type": "markdown",
      "source": [
        "### Tensor Datatypes"
      ],
      "metadata": {
        "id": "1O1JIijuw3zn"
      }
    },
    {
      "cell_type": "code",
      "source": [
        "int_32_tensor = torch.tensor ( [3, 6, 9], dtype=torch.int32)\n",
        "int_32_tensor"
      ],
      "metadata": {
        "id": "vHIGzkdZzYol",
        "outputId": "a4badccf-f629-402d-9915-f8194b413efe",
        "colab": {
          "base_uri": "https://localhost:8080/"
        }
      },
      "execution_count": null,
      "outputs": [
        {
          "output_type": "execute_result",
          "data": {
            "text/plain": [
              "tensor([3, 6, 9], dtype=torch.int32)"
            ]
          },
          "metadata": {},
          "execution_count": 15
        }
      ]
    },
    {
      "cell_type": "markdown",
      "source": [
        "####Getting information from tensors\n",
        "\n",
        "tensors not right data type you can check it by using `tensor.dtype` \n",
        "\n",
        "tensors not right shape you can check it by using `tensor.shape`\n",
        "\n",
        "tenors not on right device you can check it by using `tensor.device`"
      ],
      "metadata": {
        "id": "3W-60Udhxq1F"
      }
    },
    {
      "cell_type": "code",
      "source": [
        "rand_tensor = torch.rand(3,4)\n",
        "rand_tensor"
      ],
      "metadata": {
        "id": "CC40xiZrxLxo",
        "outputId": "737f69af-f418-4894-974f-9b1cf1046d92",
        "colab": {
          "base_uri": "https://localhost:8080/"
        }
      },
      "execution_count": null,
      "outputs": [
        {
          "output_type": "execute_result",
          "data": {
            "text/plain": [
              "tensor([[0.6780, 0.8894, 0.2853, 0.3417],\n",
              "        [0.1636, 0.0289, 0.2909, 0.7516],\n",
              "        [0.2611, 0.3773, 0.8227, 0.8305]])"
            ]
          },
          "metadata": {},
          "execution_count": 16
        }
      ]
    },
    {
      "cell_type": "code",
      "source": [
        "rand_tensor.dtype\n",
        "rand_tensor.shape \n",
        "rand_tensor.device "
      ],
      "metadata": {
        "id": "tDiipQTGygSl",
        "outputId": "1d5f24a6-0c1e-42b9-fb5e-e62a67388399",
        "colab": {
          "base_uri": "https://localhost:8080/"
        }
      },
      "execution_count": null,
      "outputs": [
        {
          "output_type": "execute_result",
          "data": {
            "text/plain": [
              "device(type='cpu')"
            ]
          },
          "metadata": {},
          "execution_count": 17
        }
      ]
    },
    {
      "cell_type": "markdown",
      "source": [
        "###Manipulatin tensors(tensor operations) \n",
        "tensor operations include:\n",
        "* Addition \n",
        "* Subtraction\n",
        "* Multiplication \n",
        "* Division\n",
        "* Matrix Multiplicilation "
      ],
      "metadata": {
        "id": "4ZeDEsvPyxXf"
      }
    },
    {
      "cell_type": "code",
      "source": [
        "#creating a tensor an add 10 to it\n",
        "tensor = torch.tensor([12,3,5]) \n",
        "tensor+20"
      ],
      "metadata": {
        "id": "Tk5g3gUPygUu",
        "outputId": "5ce93a3c-01fd-4c39-f41e-5c96722043b3",
        "colab": {
          "base_uri": "https://localhost:8080/"
        }
      },
      "execution_count": null,
      "outputs": [
        {
          "output_type": "execute_result",
          "data": {
            "text/plain": [
              "tensor([32, 23, 25])"
            ]
          },
          "metadata": {},
          "execution_count": 18
        }
      ]
    },
    {
      "cell_type": "code",
      "source": [
        "#multiplying a tensor\n",
        "tensor*10\n",
        "torch.mul(tensor,10)"
      ],
      "metadata": {
        "id": "jPyphddWz0lr",
        "outputId": "57a86b21-3d3c-4d59-ab65-6969ffe48d03",
        "colab": {
          "base_uri": "https://localhost:8080/"
        }
      },
      "execution_count": null,
      "outputs": [
        {
          "output_type": "execute_result",
          "data": {
            "text/plain": [
              "tensor([120,  30,  50])"
            ]
          },
          "metadata": {},
          "execution_count": 19
        }
      ]
    },
    {
      "cell_type": "code",
      "source": [
        "#dividin a tensor\n",
        "tensor/10"
      ],
      "metadata": {
        "id": "wKvzuUrH0DiO",
        "outputId": "466c1d4a-bd0b-4ce1-911b-a64d5d59a7f0",
        "colab": {
          "base_uri": "https://localhost:8080/"
        }
      },
      "execution_count": null,
      "outputs": [
        {
          "output_type": "execute_result",
          "data": {
            "text/plain": [
              "tensor([1.2000, 0.3000, 0.5000])"
            ]
          },
          "metadata": {},
          "execution_count": 20
        }
      ]
    },
    {
      "cell_type": "code",
      "source": [
        "#it goes on like this"
      ],
      "metadata": {
        "id": "b3clgiq50Rz-"
      },
      "execution_count": null,
      "outputs": []
    },
    {
      "cell_type": "markdown",
      "source": [
        "###Matrix multiplication \n",
        "two main ways of performing multiplication in neural networks and deep learnign\n",
        "\n",
        "* Element-Wise multiplication\n",
        "* Matrix Multiplication (Dot Product)\n",
        "(3,2)@(2,3)  "
      ],
      "metadata": {
        "id": "M8YODFNf0wA4"
      }
    },
    {
      "cell_type": "code",
      "source": [
        " #matrix multiplication \n",
        "  \n",
        "torch.matmul(tensor,tensor)"
      ],
      "metadata": {
        "id": "jGEjWg-S1H1l",
        "outputId": "6e4c30f0-2b63-439e-db0a-a68563978025",
        "colab": {
          "base_uri": "https://localhost:8080/"
        }
      },
      "execution_count": null,
      "outputs": [
        {
          "output_type": "execute_result",
          "data": {
            "text/plain": [
              "tensor(178)"
            ]
          },
          "metadata": {},
          "execution_count": 22
        }
      ]
    },
    {
      "cell_type": "code",
      "source": [
        "tensor=torch.tensor([[1,2,3],\n",
        "                      [4,5,6]])\n",
        "ntensor=tensor.reshape(3,2)\n",
        "ntensor"
      ],
      "metadata": {
        "id": "uTybBpEi2RCl",
        "colab": {
          "base_uri": "https://localhost:8080/"
        },
        "outputId": "4f3ac47d-bed9-4925-bb90-e95ad8152c89"
      },
      "execution_count": null,
      "outputs": [
        {
          "output_type": "execute_result",
          "data": {
            "text/plain": [
              "tensor([[1, 2],\n",
              "        [3, 4],\n",
              "        [5, 6]])"
            ]
          },
          "metadata": {},
          "execution_count": 23
        }
      ]
    },
    {
      "cell_type": "code",
      "source": [
        "tensor"
      ],
      "metadata": {
        "colab": {
          "base_uri": "https://localhost:8080/"
        },
        "id": "KCKGMacma58H",
        "outputId": "d93c7c33-aec7-4268-ca47-7c83c7bb3a31"
      },
      "execution_count": null,
      "outputs": [
        {
          "output_type": "execute_result",
          "data": {
            "text/plain": [
              "tensor([[1, 2, 3],\n",
              "        [4, 5, 6]])"
            ]
          },
          "metadata": {},
          "execution_count": 24
        }
      ]
    },
    {
      "cell_type": "code",
      "source": [
        "torch.matmul(tensor,ntensor) \n",
        "tensor @ ntensor"
      ],
      "metadata": {
        "colab": {
          "base_uri": "https://localhost:8080/"
        },
        "id": "JXY0H-2fSWQ-",
        "outputId": "0de8684a-b8c1-4e7e-9d15-ac2814c6524b"
      },
      "execution_count": null,
      "outputs": [
        {
          "output_type": "execute_result",
          "data": {
            "text/plain": [
              "tensor([[22, 28],\n",
              "        [49, 64]])"
            ]
          },
          "metadata": {},
          "execution_count": 25
        }
      ]
    },
    {
      "cell_type": "code",
      "source": [
        "ntensor @ tensor"
      ],
      "metadata": {
        "colab": {
          "base_uri": "https://localhost:8080/"
        },
        "id": "14YjZmyvZbDK",
        "outputId": "1e248012-75aa-4db7-8bb9-0179cb30357d"
      },
      "execution_count": null,
      "outputs": [
        {
          "output_type": "execute_result",
          "data": {
            "text/plain": [
              "tensor([[ 9, 12, 15],\n",
              "        [19, 26, 33],\n",
              "        [29, 40, 51]])"
            ]
          },
          "metadata": {},
          "execution_count": 26
        }
      ]
    },
    {
      "cell_type": "markdown",
      "source": [
        "###Finding the min,max,mean,sum,etc(Tensor aggregation)"
      ],
      "metadata": {
        "id": "I4MhYiGERukN"
      }
    },
    {
      "cell_type": "code",
      "source": [
        "x = torch.arange(0,100)\n",
        "x"
      ],
      "metadata": {
        "id": "MoGfrOgZY_LJ",
        "outputId": "c4e1b438-dfc5-4d97-9194-33e84c21235f",
        "colab": {
          "base_uri": "https://localhost:8080/"
        }
      },
      "execution_count": null,
      "outputs": [
        {
          "output_type": "execute_result",
          "data": {
            "text/plain": [
              "tensor([ 0,  1,  2,  3,  4,  5,  6,  7,  8,  9, 10, 11, 12, 13, 14, 15, 16, 17,\n",
              "        18, 19, 20, 21, 22, 23, 24, 25, 26, 27, 28, 29, 30, 31, 32, 33, 34, 35,\n",
              "        36, 37, 38, 39, 40, 41, 42, 43, 44, 45, 46, 47, 48, 49, 50, 51, 52, 53,\n",
              "        54, 55, 56, 57, 58, 59, 60, 61, 62, 63, 64, 65, 66, 67, 68, 69, 70, 71,\n",
              "        72, 73, 74, 75, 76, 77, 78, 79, 80, 81, 82, 83, 84, 85, 86, 87, 88, 89,\n",
              "        90, 91, 92, 93, 94, 95, 96, 97, 98, 99])"
            ]
          },
          "metadata": {},
          "execution_count": 27
        }
      ]
    },
    {
      "cell_type": "code",
      "source": [
        "x.max()\n",
        "torch.max(x)"
      ],
      "metadata": {
        "id": "07uzaxykabLA",
        "outputId": "e061b18a-bb65-4ec5-aebe-17fed2dfc200",
        "colab": {
          "base_uri": "https://localhost:8080/"
        }
      },
      "execution_count": null,
      "outputs": [
        {
          "output_type": "execute_result",
          "data": {
            "text/plain": [
              "tensor(99)"
            ]
          },
          "metadata": {},
          "execution_count": 28
        }
      ]
    },
    {
      "cell_type": "code",
      "source": [
        "#Find the mean\n",
        "torch.mean(x)\n",
        "#tensors datatype is not match "
      ],
      "metadata": {
        "id": "GvTbsCWIabNP",
        "outputId": "d05d70cb-3498-48b9-ac1f-7228da6514a8",
        "colab": {
          "base_uri": "https://localhost:8080/",
          "height": 200
        }
      },
      "execution_count": null,
      "outputs": [
        {
          "output_type": "error",
          "ename": "RuntimeError",
          "evalue": "ignored",
          "traceback": [
            "\u001b[0;31m---------------------------------------------------------------------------\u001b[0m",
            "\u001b[0;31mRuntimeError\u001b[0m                              Traceback (most recent call last)",
            "\u001b[0;32m<ipython-input-30-bdf52977a4da>\u001b[0m in \u001b[0;36m<cell line: 2>\u001b[0;34m()\u001b[0m\n\u001b[1;32m      1\u001b[0m \u001b[0;31m#Find the mean\u001b[0m\u001b[0;34m\u001b[0m\u001b[0;34m\u001b[0m\u001b[0m\n\u001b[0;32m----> 2\u001b[0;31m \u001b[0mtorch\u001b[0m\u001b[0;34m.\u001b[0m\u001b[0mmean\u001b[0m\u001b[0;34m(\u001b[0m\u001b[0mx\u001b[0m\u001b[0;34m)\u001b[0m\u001b[0;34m\u001b[0m\u001b[0;34m\u001b[0m\u001b[0m\n\u001b[0m\u001b[1;32m      3\u001b[0m \u001b[0;31m#tensors datatype is not match\u001b[0m\u001b[0;34m\u001b[0m\u001b[0;34m\u001b[0m\u001b[0m\n",
            "\u001b[0;31mRuntimeError\u001b[0m: mean(): could not infer output dtype. Input dtype must be either a floating point or complex dtype. Got: Long"
          ]
        }
      ]
    },
    {
      "cell_type": "code",
      "source": [
        "x.dtype"
      ],
      "metadata": {
        "id": "R3c0qOpJabPu",
        "outputId": "d4f344bf-b3ee-48c0-ca64-84eabc09a4f3",
        "colab": {
          "base_uri": "https://localhost:8080/"
        }
      },
      "execution_count": null,
      "outputs": [
        {
          "output_type": "execute_result",
          "data": {
            "text/plain": [
              "torch.int64"
            ]
          },
          "metadata": {},
          "execution_count": 31
        }
      ]
    },
    {
      "cell_type": "code",
      "source": [
        "torch.mean(x.type(torch.float32))"
      ],
      "metadata": {
        "id": "SNdofJ3VSllL",
        "outputId": "97e0a5ea-bfbf-4dff-f1f0-6cfe74a893f5",
        "colab": {
          "base_uri": "https://localhost:8080/"
        }
      },
      "execution_count": null,
      "outputs": [
        {
          "output_type": "execute_result",
          "data": {
            "text/plain": [
              "tensor(49.5000)"
            ]
          },
          "metadata": {},
          "execution_count": 32
        }
      ]
    },
    {
      "cell_type": "code",
      "source": [
        "#returns the index of min and max values\n",
        "torch.argmin(x)\n",
        "torch.argmax(x)"
      ],
      "metadata": {
        "id": "sVDPlQdHSl_N",
        "colab": {
          "base_uri": "https://localhost:8080/"
        },
        "outputId": "ffb8122d-1eff-469e-8eb7-125038401279"
      },
      "execution_count": null,
      "outputs": [
        {
          "output_type": "execute_result",
          "data": {
            "text/plain": [
              "tensor(99)"
            ]
          },
          "metadata": {},
          "execution_count": 33
        }
      ]
    },
    {
      "cell_type": "markdown",
      "source": [
        "##Reshaping, stacking, squeezing, unsqueezing tensors\n",
        "\n",
        "reshaping - reshapes an input tensor to defined shape\n",
        "\n",
        "view - return a view of an input tensor of certain shape but keep the same memory at the original tensor \n",
        "\n",
        "stacking - combine multiple tensors on top of each other (vstack) or side by side (hstack) \n",
        "\n",
        "squeeze - remove all 1 dimensions from a tensor\n",
        "\n",
        "unsqueeze - add a 1 dimension to a target tensor\n",
        "\n",
        "permute - return a view of the input with dimensions permuted (swaapped) in a certain way"
      ],
      "metadata": {
        "id": "y0rvPoPdfxGp"
      }
    },
    {
      "cell_type": "code",
      "source": [
        "import torch \n",
        "x = torch.arange(0,10)\n",
        "x.shape  "
      ],
      "metadata": {
        "colab": {
          "base_uri": "https://localhost:8080/"
        },
        "id": "ihU-6DfSd_GB",
        "outputId": "1ed2fc7d-6e6e-4a4e-e0f1-fab3bb57a2d6"
      },
      "execution_count": null,
      "outputs": [
        {
          "output_type": "execute_result",
          "data": {
            "text/plain": [
              "torch.Size([10])"
            ]
          },
          "metadata": {},
          "execution_count": 34
        }
      ]
    },
    {
      "cell_type": "code",
      "source": [
        " #adding extra dimensions\n",
        " xr = x.reshape(5,2)\n",
        " xr,xr.shape"
      ],
      "metadata": {
        "colab": {
          "base_uri": "https://localhost:8080/"
        },
        "id": "OsWN7If9d_Ii",
        "outputId": "946618dc-3317-4ece-af2b-3d602e8902b7"
      },
      "execution_count": null,
      "outputs": [
        {
          "output_type": "execute_result",
          "data": {
            "text/plain": [
              "(tensor([[0, 1],\n",
              "         [2, 3],\n",
              "         [4, 5],\n",
              "         [6, 7],\n",
              "         [8, 9]]),\n",
              " torch.Size([5, 2]))"
            ]
          },
          "metadata": {},
          "execution_count": 35
        }
      ]
    },
    {
      "cell_type": "code",
      "source": [
        " #change the view\n",
        " x =  x.view(1,10)\n",
        " x,x.shape"
      ],
      "metadata": {
        "colab": {
          "base_uri": "https://localhost:8080/"
        },
        "id": "6hAhQcH4d_LQ",
        "outputId": "24f412fa-9106-408c-852e-36b74bd51780"
      },
      "execution_count": null,
      "outputs": [
        {
          "output_type": "execute_result",
          "data": {
            "text/plain": [
              "(tensor([[0, 1, 2, 3, 4, 5, 6, 7, 8, 9]]), torch.Size([1, 10]))"
            ]
          },
          "metadata": {},
          "execution_count": 36
        }
      ]
    },
    {
      "cell_type": "code",
      "source": [
        "#stack tensor on top of each other \n",
        "x = torch.arange(0,20,4)\n",
        "xs = torch.stack([x,x,x,x],dim= 1)\n",
        "xs"
      ],
      "metadata": {
        "colab": {
          "base_uri": "https://localhost:8080/"
        },
        "id": "4mE6dG7ti-nA",
        "outputId": "cb183b3d-ed7e-49e8-b0c3-a326a8711cac"
      },
      "execution_count": null,
      "outputs": [
        {
          "output_type": "execute_result",
          "data": {
            "text/plain": [
              "tensor([[ 0,  0,  0,  0],\n",
              "        [ 4,  4,  4,  4],\n",
              "        [ 8,  8,  8,  8],\n",
              "        [12, 12, 12, 12],\n",
              "        [16, 16, 16, 16]])"
            ]
          },
          "metadata": {},
          "execution_count": 37
        }
      ]
    },
    {
      "cell_type": "code",
      "source": [
        "xs = torch.stack([x,x,x,x],dim= 0)\n",
        "xs"
      ],
      "metadata": {
        "colab": {
          "base_uri": "https://localhost:8080/"
        },
        "id": "zFVhr75do2bB",
        "outputId": "86ef3053-6fa2-40cf-af76-85c18f76fa91"
      },
      "execution_count": null,
      "outputs": [
        {
          "output_type": "execute_result",
          "data": {
            "text/plain": [
              "tensor([[ 0,  4,  8, 12, 16],\n",
              "        [ 0,  4,  8, 12, 16],\n",
              "        [ 0,  4,  8, 12, 16],\n",
              "        [ 0,  4,  8, 12, 16]])"
            ]
          },
          "metadata": {},
          "execution_count": 38
        }
      ]
    },
    {
      "cell_type": "code",
      "source": [
        "#squeeze removes all 1 dimensions from  a tensor\n",
        "x = torch.arange(1,10)\n",
        "x.shape\n",
        "x = x.reshape(1,9)"
      ],
      "metadata": {
        "id": "ldaQvl8etIyx"
      },
      "execution_count": null,
      "outputs": []
    },
    {
      "cell_type": "code",
      "source": [
        "# torch.squeeze ( ) - removes all single dimensions from a target tensor\n",
        "print (f\"Previous tensor: {x}\")\n",
        "print (f\"Previous shape: {x.shape}\")\n",
        "# Remove extra dimensions from _reshaped\n",
        "xs = x.squeeze()\n",
        "print(f\"\\nNew tensor{xs}\")\n",
        "print(f\"New shape {xs.shape}\")"
      ],
      "metadata": {
        "colab": {
          "base_uri": "https://localhost:8080/"
        },
        "id": "QSt96bpKtMtN",
        "outputId": "77b22259-647c-48fa-915f-98eb7cbd482f"
      },
      "execution_count": null,
      "outputs": [
        {
          "output_type": "stream",
          "name": "stdout",
          "text": [
            "Previous tensor: tensor([[1, 2, 3, 4, 5, 6, 7, 8, 9]])\n",
            "Previous shape: torch.Size([1, 9])\n",
            "\n",
            "New tensortensor([1, 2, 3, 4, 5, 6, 7, 8, 9])\n",
            "New shape torch.Size([9])\n"
          ]
        }
      ]
    },
    {
      "cell_type": "code",
      "source": [
        "#unsqueeze - adds a single dimension to a tatget tensor at a spesific dim\n",
        "print(f\"previus tensor: {xs}\")\n",
        "print(f\"previus tensor shape: {xs.shape}\")\n",
        "#add an extra dimension by using unsqueeze\n",
        "xu = xs.unsqueeze(dim=0)\n",
        "print(f\"\\nNew tensor: {xu}\")\n",
        "print(f\"New tensor shape: {xu.shape}\")\n"
      ],
      "metadata": {
        "colab": {
          "base_uri": "https://localhost:8080/"
        },
        "id": "ucs1em2iu9_c",
        "outputId": "7207484f-2c67-4053-86b8-5e9ac3f024f8"
      },
      "execution_count": null,
      "outputs": [
        {
          "output_type": "stream",
          "name": "stdout",
          "text": [
            "previus tensor: tensor([1, 2, 3, 4, 5, 6, 7, 8, 9])\n",
            "previus tensor shape: torch.Size([9])\n",
            "\n",
            "New tensor: tensor([[1, 2, 3, 4, 5, 6, 7, 8, 9]])\n",
            "New tensor shape: torch.Size([1, 9])\n"
          ]
        }
      ]
    },
    {
      "cell_type": "code",
      "source": [
        "xu = xs.unsqueeze(dim=1)\n",
        "xu,xu.shape"
      ],
      "metadata": {
        "colab": {
          "base_uri": "https://localhost:8080/"
        },
        "id": "YmeDBS3CvRwt",
        "outputId": "b9ae612c-695d-4d19-ad9d-445a69f66ca5"
      },
      "execution_count": null,
      "outputs": [
        {
          "output_type": "execute_result",
          "data": {
            "text/plain": [
              "(tensor([[1],\n",
              "         [2],\n",
              "         [3],\n",
              "         [4],\n",
              "         [5],\n",
              "         [6],\n",
              "         [7],\n",
              "         [8],\n",
              "         [9]]),\n",
              " torch.Size([9, 1]))"
            ]
          },
          "metadata": {},
          "execution_count": 42
        }
      ]
    },
    {
      "cell_type": "code",
      "source": [
        "#permute - rearanges the dimensions of a target tensor in a spesified order\n",
        "x = torch.rand(size=(224,200,3))\n",
        "xp = x.permute(2,0,1)\n",
        "print(f\"previus shape: {x.shape}\")\n",
        "print(f\"new shape{xp.shape}\")"
      ],
      "metadata": {
        "colab": {
          "base_uri": "https://localhost:8080/"
        },
        "id": "bI5TjUQmzsSI",
        "outputId": "2857dbc0-6b06-4163-e16d-9496b02bd597"
      },
      "execution_count": null,
      "outputs": [
        {
          "output_type": "stream",
          "name": "stdout",
          "text": [
            "previus shape: torch.Size([224, 200, 3])\n",
            "new shapetorch.Size([3, 224, 200])\n"
          ]
        }
      ]
    },
    {
      "cell_type": "markdown",
      "source": [
        "##indexing (selecting data from tensors)\n",
        "(pretty similar to the numpy so i skipipng this)"
      ],
      "metadata": {
        "id": "b0Y8gRFVOrBu"
      }
    },
    {
      "cell_type": "markdown",
      "source": [
        "##Pytorch tensors &  NumPy\n",
        "\n",
        "NumPy is a popular scientific Python numerical computing library.\n",
        "\n",
        "Pytorch has functionality to interact with it \n",
        "\n",
        "Data in NumPy, want in PyTorh -> `torch.from_numpy(ndarray)`\n",
        "\n",
        "PyTorch -> NumPy -> `torch.Tensor.numpy()`\n",
        "\n",
        "\n",
        " "
      ],
      "metadata": {
        "id": "FIQbV2_MQ3Hu"
      }
    },
    {
      "cell_type": "code",
      "source": [
        "#numpy array to tensor \n",
        "import torch\n",
        "import numpy as np \n",
        "\n",
        "array = np.arange(1.0,8.0)\n",
        "tensor = torch.from_numpy(array) #when converting from numpy to  pytorch, pytorch reflects numpys's default dtype of float64 unless spesified otherwise\n",
        "tensor,array"
      ],
      "metadata": {
        "colab": {
          "base_uri": "https://localhost:8080/"
        },
        "id": "BhTB9JGBN47v",
        "outputId": "a9f90737-011c-4994-a7b6-5742304c658a"
      },
      "execution_count": null,
      "outputs": [
        {
          "output_type": "execute_result",
          "data": {
            "text/plain": [
              "(tensor([1., 2., 3., 4., 5., 6., 7.], dtype=torch.float64),\n",
              " array([1., 2., 3., 4., 5., 6., 7.]))"
            ]
          },
          "metadata": {},
          "execution_count": 44
        }
      ]
    },
    {
      "cell_type": "code",
      "source": [
        "array.dtype,tensor.dtype"
      ],
      "metadata": {
        "id": "B-spHwO60zVZ",
        "colab": {
          "base_uri": "https://localhost:8080/"
        },
        "outputId": "521448a4-b1b0-433c-bf05-4a46a739823f"
      },
      "execution_count": null,
      "outputs": [
        {
          "output_type": "execute_result",
          "data": {
            "text/plain": [
              "(dtype('float64'), torch.float64)"
            ]
          },
          "metadata": {},
          "execution_count": 45
        }
      ]
    },
    {
      "cell_type": "code",
      "source": [
        " #tensor to numpy\n",
        " tensor = torch.ones(7)\n",
        " np_tensor = tensor.numpy()\n",
        " np_tensor,tensor"
      ],
      "metadata": {
        "colab": {
          "base_uri": "https://localhost:8080/"
        },
        "id": "2N2WtCYmTDOS",
        "outputId": "fa150014-3615-4bd1-e87c-2f28f18647d7"
      },
      "execution_count": null,
      "outputs": [
        {
          "output_type": "execute_result",
          "data": {
            "text/plain": [
              "(array([1., 1., 1., 1., 1., 1., 1.], dtype=float32),\n",
              " tensor([1., 1., 1., 1., 1., 1., 1.]))"
            ]
          },
          "metadata": {},
          "execution_count": 46
        }
      ]
    },
    {
      "cell_type": "code",
      "source": [
        "np_tensor.dtype,tensor.dtype\n"
      ],
      "metadata": {
        "colab": {
          "base_uri": "https://localhost:8080/"
        },
        "id": "7NE2fjacTDQi",
        "outputId": "861e4c1c-32da-482e-86aa-9aa75ee22609"
      },
      "execution_count": null,
      "outputs": [
        {
          "output_type": "execute_result",
          "data": {
            "text/plain": [
              "(dtype('float32'), torch.float32)"
            ]
          },
          "metadata": {},
          "execution_count": 47
        }
      ]
    },
    {
      "cell_type": "markdown",
      "source": [
        "## Reproducbility (try to take random out of random)\n",
        "\n",
        "how a neural network run: \n",
        "\n",
        "`start with random numbers -> tensor operations -> update random numbers to try and make them better representations of the data -> again -> again -> ......`\n",
        "\n",
        "to reduce the randomness in neural networks and torch comes the concept of a **random seed**.\n",
        "Essentially what the random seed does is flavour the randomness"
      ],
      "metadata": {
        "id": "wjoWxDrvW5Kr"
      }
    },
    {
      "cell_type": "code",
      "source": [
        "\n",
        "\n",
        "import torch\n",
        "t1 = torch.rand(3,4)\n",
        "t2 = torch.rand(3,4)\n",
        "print(t1)\n",
        "print(t2)\n",
        "print(t1==t2)"
      ],
      "metadata": {
        "colab": {
          "base_uri": "https://localhost:8080/"
        },
        "id": "80nghmlJXDhC",
        "outputId": "a9f7adfc-c76f-4108-d322-9e1be7580cfa"
      },
      "execution_count": null,
      "outputs": [
        {
          "output_type": "stream",
          "name": "stdout",
          "text": [
            "tensor([[0.1691, 0.3833, 0.1546, 0.2029],\n",
            "        [0.2581, 0.4183, 0.0079, 0.0586],\n",
            "        [0.4847, 0.0849, 0.2440, 0.2211]])\n",
            "tensor([[0.8240, 0.1895, 0.2607, 0.0146],\n",
            "        [0.1705, 0.8021, 0.5413, 0.1389],\n",
            "        [0.6255, 0.3653, 0.8193, 0.3567]])\n",
            "tensor([[False, False, False, False],\n",
            "        [False, False, False, False],\n",
            "        [False, False, False, False]])\n"
          ]
        }
      ]
    },
    {
      "cell_type": "code",
      "source": [
        " #lets make some random but reproducible tensors\n",
        " import torch\n",
        "\n",
        " #set random seed\n",
        "randomSeed = 43\n",
        "torch.manual_seed(randomSeed)\n",
        "t3 = torch.rand(3,4)\n",
        "\n",
        "torch.manual_seed(randomSeed)\n",
        "t4 = torch.rand(3,4)\n",
        "\n",
        "print(t3)\n",
        "print(t4)\n",
        "print(t3 == t4)\n",
        "   "
      ],
      "metadata": {
        "id": "NKTiRoLt0zXt",
        "colab": {
          "base_uri": "https://localhost:8080/"
        },
        "outputId": "090ee86d-77ae-45b3-928e-0392cb4a2690"
      },
      "execution_count": null,
      "outputs": [
        {
          "output_type": "stream",
          "name": "stdout",
          "text": [
            "tensor([[0.4540, 0.1965, 0.9210, 0.3462],\n",
            "        [0.1481, 0.0858, 0.5909, 0.0659],\n",
            "        [0.7476, 0.6253, 0.9392, 0.1338]])\n",
            "tensor([[0.4540, 0.1965, 0.9210, 0.3462],\n",
            "        [0.1481, 0.0858, 0.5909, 0.0659],\n",
            "        [0.7476, 0.6253, 0.9392, 0.1338]])\n",
            "tensor([[True, True, True, True],\n",
            "        [True, True, True, True],\n",
            "        [True, True, True, True]])\n"
          ]
        }
      ]
    },
    {
      "cell_type": "markdown",
      "source": [],
      "metadata": {
        "id": "EOxCeNsxNl7s"
      }
    },
    {
      "cell_type": "markdown",
      "source": [
        "##GPU"
      ],
      "metadata": {
        "id": "S5efgZXWR6vN"
      }
    },
    {
      "cell_type": "code",
      "source": [
        " import torch\n",
        " torch.cuda.is_available()"
      ],
      "metadata": {
        "id": "erkxKLKXYj3w",
        "colab": {
          "base_uri": "https://localhost:8080/"
        },
        "outputId": "8607c00d-855d-4303-d08e-dc8e5c339953"
      },
      "execution_count": null,
      "outputs": [
        {
          "output_type": "execute_result",
          "data": {
            "text/plain": [
              "True"
            ]
          },
          "metadata": {},
          "execution_count": 50
        }
      ]
    },
    {
      "cell_type": "code",
      "source": [
        "#setup device with a agnostic code \n",
        "device = \"cuda\" if torch.cuda.is_available() else \"cpu\"\n",
        "device\n"
      ],
      "metadata": {
        "id": "eR1tFwaDbxJ-",
        "colab": {
          "base_uri": "https://localhost:8080/",
          "height": 35
        },
        "outputId": "86ba93b1-9337-4bcb-b90d-750c13291e11"
      },
      "execution_count": null,
      "outputs": [
        {
          "output_type": "execute_result",
          "data": {
            "text/plain": [
              "'cuda'"
            ],
            "application/vnd.google.colaboratory.intrinsic+json": {
              "type": "string"
            }
          },
          "metadata": {},
          "execution_count": 53
        }
      ]
    },
    {
      "cell_type": "markdown",
      "source": [],
      "metadata": {
        "id": "KZXYjz4gdee8"
      }
    },
    {
      "cell_type": "code",
      "source": [
        "#count number of device \n",
        "torch.cuda.device_count()"
      ],
      "metadata": {
        "colab": {
          "base_uri": "https://localhost:8080/"
        },
        "id": "meKMlOQ0QVLR",
        "outputId": "8cc38c46-446c-4424-c409-ed0afab57047"
      },
      "execution_count": null,
      "outputs": [
        {
          "output_type": "execute_result",
          "data": {
            "text/plain": [
              "1"
            ]
          },
          "metadata": {},
          "execution_count": 55
        }
      ]
    },
    {
      "cell_type": "markdown",
      "source": [
        "## Putting tensors, Models on the GPU"
      ],
      "metadata": {
        "id": "w5O1OrAeSc1O"
      }
    },
    {
      "cell_type": "code",
      "source": [
        "tensor =  torch.tensor([1,2,3],device = \"cpu\")#or cuda\n",
        "\n",
        "print(tensor,tensor.device)"
      ],
      "metadata": {
        "colab": {
          "base_uri": "https://localhost:8080/"
        },
        "id": "uxQZsDWuSXLV",
        "outputId": "4356fc61-6c5e-4253-f71c-5af8efffdd0f"
      },
      "execution_count": null,
      "outputs": [
        {
          "output_type": "stream",
          "name": "stdout",
          "text": [
            "tensor([1, 2, 3]) cpu\n"
          ]
        }
      ]
    },
    {
      "cell_type": "code",
      "source": [
        "#move tensor to gpu (if available)\n",
        "gpuTensor = tensor.to(device)\n",
        "gpuTensor"
      ],
      "metadata": {
        "colab": {
          "base_uri": "https://localhost:8080/"
        },
        "id": "-NpJ3_J2Sxa0",
        "outputId": "92b22e15-9824-4c02-e0be-553cbaed5ad7"
      },
      "execution_count": null,
      "outputs": [
        {
          "output_type": "execute_result",
          "data": {
            "text/plain": [
              "tensor([1, 2, 3], device='cuda:0')"
            ]
          },
          "metadata": {},
          "execution_count": 62
        }
      ]
    },
    {
      "cell_type": "code",
      "source": [
        " #moving tensors back tp cpu\n",
        " gpuTensor.numpy()   #numpy doesnt work with gpu\n",
        " "
      ],
      "metadata": {
        "colab": {
          "base_uri": "https://localhost:8080/",
          "height": 183
        },
        "id": "QpnezWR9TxOD",
        "outputId": "535654c1-05bc-4b52-86a7-7632aac26562"
      },
      "execution_count": null,
      "outputs": [
        {
          "output_type": "error",
          "ename": "TypeError",
          "evalue": "ignored",
          "traceback": [
            "\u001b[0;31m---------------------------------------------------------------------------\u001b[0m",
            "\u001b[0;31mTypeError\u001b[0m                                 Traceback (most recent call last)",
            "\u001b[0;32m<ipython-input-63-c61769dcd699>\u001b[0m in \u001b[0;36m<cell line: 2>\u001b[0;34m()\u001b[0m\n\u001b[1;32m      1\u001b[0m \u001b[0;31m#moving tensors back tp cpu\u001b[0m\u001b[0;34m\u001b[0m\u001b[0;34m\u001b[0m\u001b[0m\n\u001b[0;32m----> 2\u001b[0;31m \u001b[0mgpuTensor\u001b[0m\u001b[0;34m.\u001b[0m\u001b[0mnumpy\u001b[0m\u001b[0;34m(\u001b[0m\u001b[0;34m)\u001b[0m\u001b[0;34m\u001b[0m\u001b[0;34m\u001b[0m\u001b[0m\n\u001b[0m",
            "\u001b[0;31mTypeError\u001b[0m: can't convert cuda:0 device type tensor to numpy. Use Tensor.cpu() to copy the tensor to host memory first."
          ]
        }
      ]
    },
    {
      "cell_type": "code",
      "source": [
        "cpuTensor=gpuTensor.cpu()\n",
        "cpuTensor.numpy()"
      ],
      "metadata": {
        "colab": {
          "base_uri": "https://localhost:8080/"
        },
        "id": "-SYmS8isWNcb",
        "outputId": "9ed1b298-24a1-44b0-cdd9-c96b194e27db"
      },
      "execution_count": null,
      "outputs": [
        {
          "output_type": "execute_result",
          "data": {
            "text/plain": [
              "array([1, 2, 3])"
            ]
          },
          "metadata": {},
          "execution_count": 67
        }
      ]
    },
    {
      "cell_type": "code",
      "source": [],
      "metadata": {
        "id": "XAq4pTZ4Wc07"
      },
      "execution_count": null,
      "outputs": []
    }
  ]
}