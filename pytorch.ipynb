{
  "nbformat": 4,
  "nbformat_minor": 0,
  "metadata": {
    "colab": {
      "provenance": [],
      "gpuType": "T4",
      "name": "Torch01.ipynb",
      "authorship_tag": "ABX9TyP15b70VO7UBHWEe8KKBc5W",
      "include_colab_link": true
    },
    "kernelspec": {
      "name": "python3",
      "display_name": "Python 3"
    },
    "language_info": {
      "name": "python"
    },
    "gpuClass": "standard"
  },
  "cells": [
    {
      "cell_type": "markdown",
      "metadata": {
        "id": "view-in-github",
        "colab_type": "text"
      },
      "source": [
        "<a href=\"https://colab.research.google.com/github/ZuCCuK/CloudStorage/blob/main/pytorch.ipynb\" target=\"_parent\"><img src=\"https://colab.research.google.com/assets/colab-badge.svg\" alt=\"Open In Colab\"/></a>"
      ]
    },
    {
      "cell_type": "markdown",
      "source": [
        "# PyTorch Fundementals\n",
        "0.0\n"
      ],
      "metadata": {
        "id": "R8biVJCVuu-i"
      }
    },
    {
      "cell_type": "code",
      "execution_count": 1,
      "metadata": {
        "colab": {
          "base_uri": "https://localhost:8080/"
        },
        "id": "QULY68EEPm5v",
        "outputId": "92029dab-014b-4312-9c6c-143bd41047de"
      },
      "outputs": [
        {
          "output_type": "stream",
          "name": "stdout",
          "text": [
            "2.0.0+cu118\n"
          ]
        }
      ],
      "source": [
        "import pandas as pd\n",
        "import numpy as np \n",
        "import matplotlib.pyplot as plt\n",
        "import torch\n",
        "print(torch.__version__)\n"
      ]
    },
    {
      "cell_type": "markdown",
      "source": [
        "# İntroduction to Tensors"
      ],
      "metadata": {
        "id": "4TF4lQwp0CHu"
      }
    },
    {
      "cell_type": "markdown",
      "source": [
        "### Creating tensors"
      ],
      "metadata": {
        "id": "4uN8zsLU0Ioi"
      }
    },
    {
      "cell_type": "code",
      "source": [
        "#scalar"
      ],
      "metadata": {
        "id": "8-oruSX_fMv6"
      },
      "execution_count": 2,
      "outputs": []
    },
    {
      "cell_type": "code",
      "source": [
        "scalar=torch.tensor(7)\n",
        "scalar"
      ],
      "metadata": {
        "colab": {
          "base_uri": "https://localhost:8080/"
        },
        "id": "HL2Q3hk808LR",
        "outputId": "282816cf-d104-447c-a802-712d4de5004b"
      },
      "execution_count": 3,
      "outputs": [
        {
          "output_type": "execute_result",
          "data": {
            "text/plain": [
              "tensor(7)"
            ]
          },
          "metadata": {},
          "execution_count": 3
        }
      ]
    },
    {
      "cell_type": "code",
      "source": [
        "scalar.ndim\n",
        "#Dimension sayısını döndürür"
      ],
      "metadata": {
        "colab": {
          "base_uri": "https://localhost:8080/"
        },
        "id": "ggz-h9Zj08Nb",
        "outputId": "4c70581a-028d-41ee-a62e-f7dcde3916d9"
      },
      "execution_count": 4,
      "outputs": [
        {
          "output_type": "execute_result",
          "data": {
            "text/plain": [
              "0"
            ]
          },
          "metadata": {},
          "execution_count": 4
        }
      ]
    },
    {
      "cell_type": "code",
      "source": [
        "scalar.item()\n",
        "#Tensoru int değeri olarak döndürür"
      ],
      "metadata": {
        "colab": {
          "base_uri": "https://localhost:8080/"
        },
        "id": "aMB9JtuX08P6",
        "outputId": "e5652c69-3cec-4d1e-c118-255a53817678"
      },
      "execution_count": 5,
      "outputs": [
        {
          "output_type": "execute_result",
          "data": {
            "text/plain": [
              "7"
            ]
          },
          "metadata": {},
          "execution_count": 5
        }
      ]
    },
    {
      "cell_type": "code",
      "source": [
        "vector = torch.tensor([7,7])\n",
        "vector"
      ],
      "metadata": {
        "colab": {
          "base_uri": "https://localhost:8080/"
        },
        "id": "a8QbL7Im-z1O",
        "outputId": "b66c81ee-ce81-4c57-c659-f2140efb27e1"
      },
      "execution_count": 6,
      "outputs": [
        {
          "output_type": "execute_result",
          "data": {
            "text/plain": [
              "tensor([7, 7])"
            ]
          },
          "metadata": {},
          "execution_count": 6
        }
      ]
    },
    {
      "cell_type": "code",
      "source": [
        "vector.ndim"
      ],
      "metadata": {
        "colab": {
          "base_uri": "https://localhost:8080/"
        },
        "id": "qeUsclbzCo_f",
        "outputId": "8bc9b641-5048-4901-efe1-6632ed1e9fa3"
      },
      "execution_count": 7,
      "outputs": [
        {
          "output_type": "execute_result",
          "data": {
            "text/plain": [
              "1"
            ]
          },
          "metadata": {},
          "execution_count": 7
        }
      ]
    },
    {
      "cell_type": "code",
      "source": [
        "vector.shape"
      ],
      "metadata": {
        "colab": {
          "base_uri": "https://localhost:8080/"
        },
        "id": "uI46IVm0CxWe",
        "outputId": "220f2512-a166-472d-e655-3245373c4d71"
      },
      "execution_count": 8,
      "outputs": [
        {
          "output_type": "execute_result",
          "data": {
            "text/plain": [
              "torch.Size([2])"
            ]
          },
          "metadata": {},
          "execution_count": 8
        }
      ]
    },
    {
      "cell_type": "code",
      "source": [
        "#Matrix\n",
        "matrix = torch.tensor([[9,0],\n",
        "                       [1,4]])\n",
        "matrix"
      ],
      "metadata": {
        "colab": {
          "base_uri": "https://localhost:8080/"
        },
        "id": "ZRBlfJ6MC3Lt",
        "outputId": "12e89597-0e1b-41e6-87d9-daf0c0160705"
      },
      "execution_count": 9,
      "outputs": [
        {
          "output_type": "execute_result",
          "data": {
            "text/plain": [
              "tensor([[9, 0],\n",
              "        [1, 4]])"
            ]
          },
          "metadata": {},
          "execution_count": 9
        }
      ]
    },
    {
      "cell_type": "code",
      "source": [
        "matrix[0]"
      ],
      "metadata": {
        "id": "U9E0qYnpC-eA",
        "colab": {
          "base_uri": "https://localhost:8080/"
        },
        "outputId": "dfd8a39b-4c9a-406a-8bd8-654e2df386d0"
      },
      "execution_count": 10,
      "outputs": [
        {
          "output_type": "execute_result",
          "data": {
            "text/plain": [
              "tensor([9, 0])"
            ]
          },
          "metadata": {},
          "execution_count": 10
        }
      ]
    },
    {
      "cell_type": "code",
      "source": [
        "matrix.shape"
      ],
      "metadata": {
        "colab": {
          "base_uri": "https://localhost:8080/"
        },
        "id": "BbEiV-6FyoQi",
        "outputId": "b63d3ceb-a6df-4759-801e-b8e0998fcad2"
      },
      "execution_count": 11,
      "outputs": [
        {
          "output_type": "execute_result",
          "data": {
            "text/plain": [
              "torch.Size([2, 2])"
            ]
          },
          "metadata": {},
          "execution_count": 11
        }
      ]
    },
    {
      "cell_type": "code",
      "source": [
        "#Tensros\n",
        "tensor = torch.tensor([[[0,2,4],\n",
        "                        [1,3,5],\n",
        "                        [6,7,8]]])\n",
        "tensor"
      ],
      "metadata": {
        "colab": {
          "base_uri": "https://localhost:8080/"
        },
        "id": "wb1EjrHevOEH",
        "outputId": "6693e20d-8ebe-4d6e-b597-7585016b488f"
      },
      "execution_count": 12,
      "outputs": [
        {
          "output_type": "execute_result",
          "data": {
            "text/plain": [
              "tensor([[[0, 2, 4],\n",
              "         [1, 3, 5],\n",
              "         [6, 7, 8]]])"
            ]
          },
          "metadata": {},
          "execution_count": 12
        }
      ]
    },
    {
      "cell_type": "code",
      "source": [
        "tensor.ndim "
      ],
      "metadata": {
        "colab": {
          "base_uri": "https://localhost:8080/"
        },
        "id": "Nctgp76YzNAC",
        "outputId": "8c499822-b5e9-4399-e5ed-c9348492f55e"
      },
      "execution_count": 13,
      "outputs": [
        {
          "output_type": "execute_result",
          "data": {
            "text/plain": [
              "3"
            ]
          },
          "metadata": {},
          "execution_count": 13
        }
      ]
    },
    {
      "cell_type": "code",
      "source": [
        "tensor.shape"
      ],
      "metadata": {
        "colab": {
          "base_uri": "https://localhost:8080/"
        },
        "id": "sZvoe2H0zXZK",
        "outputId": "8ce3f9bd-bc35-45e7-d7e1-e12ac1ec87f6"
      },
      "execution_count": 14,
      "outputs": [
        {
          "output_type": "execute_result",
          "data": {
            "text/plain": [
              "torch.Size([1, 3, 3])"
            ]
          },
          "metadata": {},
          "execution_count": 14
        }
      ]
    },
    {
      "cell_type": "markdown",
      "source": [
        "### Tensor Datatypes"
      ],
      "metadata": {
        "id": "1O1JIijuw3zn"
      }
    },
    {
      "cell_type": "code",
      "source": [
        "int_32_tensor = torch.tensor ( [3, 6, 9], dtype=torch.int32)\n",
        "int_32_tensor"
      ],
      "metadata": {
        "id": "vHIGzkdZzYol",
        "outputId": "96e93307-10f4-4ded-eded-93c0a595c803",
        "colab": {
          "base_uri": "https://localhost:8080/"
        }
      },
      "execution_count": 15,
      "outputs": [
        {
          "output_type": "execute_result",
          "data": {
            "text/plain": [
              "tensor([3, 6, 9], dtype=torch.int32)"
            ]
          },
          "metadata": {},
          "execution_count": 15
        }
      ]
    },
    {
      "cell_type": "markdown",
      "source": [
        "####Getting information from tensors\n",
        "\n",
        "tensors not right data type you can check it by using \"tensor.dtype\" \n",
        "\n",
        "tensors not right shape you can check it by using \"tensor.shape\"\n",
        "\n",
        "tenors not on right device you can check it by using \"tensor.device\""
      ],
      "metadata": {
        "id": "3W-60Udhxq1F"
      }
    },
    {
      "cell_type": "code",
      "source": [
        "rand_tensor = torch.rand(3,4)\n",
        "rand_tensor"
      ],
      "metadata": {
        "id": "CC40xiZrxLxo",
        "outputId": "49d30b0f-3bab-412b-b254-bb347fa24610",
        "colab": {
          "base_uri": "https://localhost:8080/"
        }
      },
      "execution_count": 16,
      "outputs": [
        {
          "output_type": "execute_result",
          "data": {
            "text/plain": [
              "tensor([[0.3852, 0.8406, 0.5133, 0.8410],\n",
              "        [0.0495, 0.2294, 0.4559, 0.4813],\n",
              "        [0.9032, 0.9103, 0.0425, 0.8548]])"
            ]
          },
          "metadata": {},
          "execution_count": 16
        }
      ]
    },
    {
      "cell_type": "code",
      "source": [
        "rand_tensor.dtype\n",
        "rand_tensor.shape \n",
        "rand_tensor.device "
      ],
      "metadata": {
        "id": "tDiipQTGygSl",
        "outputId": "bd9d1222-108a-4a39-b09f-11af2f5938f0",
        "colab": {
          "base_uri": "https://localhost:8080/"
        }
      },
      "execution_count": 17,
      "outputs": [
        {
          "output_type": "execute_result",
          "data": {
            "text/plain": [
              "device(type='cpu')"
            ]
          },
          "metadata": {},
          "execution_count": 17
        }
      ]
    },
    {
      "cell_type": "markdown",
      "source": [
        "###Manipulatin tensors(tensor operations) \n",
        "tensor operations include:\n",
        "* Addition \n",
        "* Subtraction\n",
        "* Multiplication \n",
        "* Division\n",
        "* Matrix Multiplicilation "
      ],
      "metadata": {
        "id": "4ZeDEsvPyxXf"
      }
    },
    {
      "cell_type": "code",
      "source": [
        "#creating a tensor an add 10 to it\n",
        "tensor = torch.tensor([12,3,5]) \n",
        "tensor+20"
      ],
      "metadata": {
        "id": "Tk5g3gUPygUu",
        "outputId": "d1c5033d-d02f-430b-884d-c12e4e8d547d",
        "colab": {
          "base_uri": "https://localhost:8080/"
        }
      },
      "execution_count": 18,
      "outputs": [
        {
          "output_type": "execute_result",
          "data": {
            "text/plain": [
              "tensor([32, 23, 25])"
            ]
          },
          "metadata": {},
          "execution_count": 18
        }
      ]
    },
    {
      "cell_type": "code",
      "source": [
        "#multiplying a tensor\n",
        "tensor*10\n",
        "torch.mul(tensor,10)"
      ],
      "metadata": {
        "id": "jPyphddWz0lr",
        "outputId": "7958b35a-9673-4088-c9b6-ac1952207131",
        "colab": {
          "base_uri": "https://localhost:8080/"
        }
      },
      "execution_count": 19,
      "outputs": [
        {
          "output_type": "execute_result",
          "data": {
            "text/plain": [
              "tensor([120,  30,  50])"
            ]
          },
          "metadata": {},
          "execution_count": 19
        }
      ]
    },
    {
      "cell_type": "code",
      "source": [
        "#dividin a tensor\n",
        "tensor/10"
      ],
      "metadata": {
        "id": "wKvzuUrH0DiO",
        "outputId": "d242dbe0-db99-4a75-9f88-270ed999a1af",
        "colab": {
          "base_uri": "https://localhost:8080/"
        }
      },
      "execution_count": 20,
      "outputs": [
        {
          "output_type": "execute_result",
          "data": {
            "text/plain": [
              "tensor([1.2000, 0.3000, 0.5000])"
            ]
          },
          "metadata": {},
          "execution_count": 20
        }
      ]
    },
    {
      "cell_type": "code",
      "source": [
        "#it goes on like this"
      ],
      "metadata": {
        "id": "b3clgiq50Rz-"
      },
      "execution_count": 21,
      "outputs": []
    },
    {
      "cell_type": "markdown",
      "source": [
        "###Matrix multiplication \n",
        "two main ways of performing multiplication in neural networks and deep learnign\n",
        "\n",
        "* Element-Wise multiplication\n",
        "* Matrix Multiplication (Dot Product)\n",
        "(3,2)@(2,3)  "
      ],
      "metadata": {
        "id": "M8YODFNf0wA4"
      }
    },
    {
      "cell_type": "code",
      "source": [
        " #matrix multiplication \n",
        "  \n",
        "torch.matmul(tensor,tensor)"
      ],
      "metadata": {
        "id": "jGEjWg-S1H1l",
        "outputId": "b88951d9-3231-4c18-94bb-26e90379e890",
        "colab": {
          "base_uri": "https://localhost:8080/"
        }
      },
      "execution_count": 22,
      "outputs": [
        {
          "output_type": "execute_result",
          "data": {
            "text/plain": [
              "tensor(178)"
            ]
          },
          "metadata": {},
          "execution_count": 22
        }
      ]
    },
    {
      "cell_type": "code",
      "source": [
        "tensor=torch.tensor([[1,2,3],\n",
        "                      [4,5,6]])\n",
        "ntensor=tensor.reshape(3,2)\n",
        "ntensor"
      ],
      "metadata": {
        "id": "uTybBpEi2RCl",
        "colab": {
          "base_uri": "https://localhost:8080/"
        },
        "outputId": "a611f3d0-1571-40b4-f9dd-e852b8632077"
      },
      "execution_count": 23,
      "outputs": [
        {
          "output_type": "execute_result",
          "data": {
            "text/plain": [
              "tensor([[1, 2],\n",
              "        [3, 4],\n",
              "        [5, 6]])"
            ]
          },
          "metadata": {},
          "execution_count": 23
        }
      ]
    },
    {
      "cell_type": "code",
      "source": [
        "tensor"
      ],
      "metadata": {
        "colab": {
          "base_uri": "https://localhost:8080/"
        },
        "id": "KCKGMacma58H",
        "outputId": "eb949553-dca9-4fa1-a85b-f5ad37569dfd"
      },
      "execution_count": 24,
      "outputs": [
        {
          "output_type": "execute_result",
          "data": {
            "text/plain": [
              "tensor([[1, 2, 3],\n",
              "        [4, 5, 6]])"
            ]
          },
          "metadata": {},
          "execution_count": 24
        }
      ]
    },
    {
      "cell_type": "code",
      "source": [
        "torch.matmul(tensor,ntensor) \n",
        "tensor @ ntensor"
      ],
      "metadata": {
        "colab": {
          "base_uri": "https://localhost:8080/"
        },
        "id": "JXY0H-2fSWQ-",
        "outputId": "60750858-c56d-4ee7-c758-11e2cb104b3b"
      },
      "execution_count": 25,
      "outputs": [
        {
          "output_type": "execute_result",
          "data": {
            "text/plain": [
              "tensor([[22, 28],\n",
              "        [49, 64]])"
            ]
          },
          "metadata": {},
          "execution_count": 25
        }
      ]
    },
    {
      "cell_type": "code",
      "source": [
        "ntensor @ tensor"
      ],
      "metadata": {
        "colab": {
          "base_uri": "https://localhost:8080/"
        },
        "id": "14YjZmyvZbDK",
        "outputId": "783885a8-9091-42cc-cb63-d8805f9ae526"
      },
      "execution_count": 26,
      "outputs": [
        {
          "output_type": "execute_result",
          "data": {
            "text/plain": [
              "tensor([[ 9, 12, 15],\n",
              "        [19, 26, 33],\n",
              "        [29, 40, 51]])"
            ]
          },
          "metadata": {},
          "execution_count": 26
        }
      ]
    },
    {
      "cell_type": "markdown",
      "source": [
        "###Finding the min,max,mean,sum,etc(Tensor aggregation)"
      ],
      "metadata": {
        "id": "I4MhYiGERukN"
      }
    },
    {
      "cell_type": "code",
      "source": [
        "x = torch.arange(0,100)\n",
        "x"
      ],
      "metadata": {
        "id": "MoGfrOgZY_LJ",
        "outputId": "b5f60997-8fac-4fe5-d7f4-69aace4b910d",
        "colab": {
          "base_uri": "https://localhost:8080/"
        }
      },
      "execution_count": 27,
      "outputs": [
        {
          "output_type": "execute_result",
          "data": {
            "text/plain": [
              "tensor([ 0,  1,  2,  3,  4,  5,  6,  7,  8,  9, 10, 11, 12, 13, 14, 15, 16, 17,\n",
              "        18, 19, 20, 21, 22, 23, 24, 25, 26, 27, 28, 29, 30, 31, 32, 33, 34, 35,\n",
              "        36, 37, 38, 39, 40, 41, 42, 43, 44, 45, 46, 47, 48, 49, 50, 51, 52, 53,\n",
              "        54, 55, 56, 57, 58, 59, 60, 61, 62, 63, 64, 65, 66, 67, 68, 69, 70, 71,\n",
              "        72, 73, 74, 75, 76, 77, 78, 79, 80, 81, 82, 83, 84, 85, 86, 87, 88, 89,\n",
              "        90, 91, 92, 93, 94, 95, 96, 97, 98, 99])"
            ]
          },
          "metadata": {},
          "execution_count": 27
        }
      ]
    },
    {
      "cell_type": "markdown",
      "source": [
        "x.min()\n",
        "torch.min(x)"
      ],
      "metadata": {
        "id": "G4euL2mrabIg"
      }
    },
    {
      "cell_type": "code",
      "source": [
        "x.max()\n",
        "torch.max(x)"
      ],
      "metadata": {
        "id": "07uzaxykabLA",
        "outputId": "0bc2fe11-10c7-4b88-ef9c-5824af52858b",
        "colab": {
          "base_uri": "https://localhost:8080/"
        }
      },
      "execution_count": 29,
      "outputs": [
        {
          "output_type": "execute_result",
          "data": {
            "text/plain": [
              "tensor(99)"
            ]
          },
          "metadata": {},
          "execution_count": 29
        }
      ]
    },
    {
      "cell_type": "code",
      "source": [
        "#Find the mean\n",
        "torch.mean(x)\n",
        "#tensors datatype is not match "
      ],
      "metadata": {
        "id": "GvTbsCWIabNP",
        "outputId": "60f82735-985e-4d2b-b5d2-ad30727c1f4b",
        "colab": {
          "base_uri": "https://localhost:8080/",
          "height": 200
        }
      },
      "execution_count": 34,
      "outputs": [
        {
          "output_type": "error",
          "ename": "RuntimeError",
          "evalue": "ignored",
          "traceback": [
            "\u001b[0;31m---------------------------------------------------------------------------\u001b[0m",
            "\u001b[0;31mRuntimeError\u001b[0m                              Traceback (most recent call last)",
            "\u001b[0;32m<ipython-input-34-bdf52977a4da>\u001b[0m in \u001b[0;36m<cell line: 2>\u001b[0;34m()\u001b[0m\n\u001b[1;32m      1\u001b[0m \u001b[0;31m#Find the mean\u001b[0m\u001b[0;34m\u001b[0m\u001b[0;34m\u001b[0m\u001b[0m\n\u001b[0;32m----> 2\u001b[0;31m \u001b[0mtorch\u001b[0m\u001b[0;34m.\u001b[0m\u001b[0mmean\u001b[0m\u001b[0;34m(\u001b[0m\u001b[0mx\u001b[0m\u001b[0;34m)\u001b[0m\u001b[0;34m\u001b[0m\u001b[0;34m\u001b[0m\u001b[0m\n\u001b[0m\u001b[1;32m      3\u001b[0m \u001b[0;31m#tensors datatype is not match\u001b[0m\u001b[0;34m\u001b[0m\u001b[0;34m\u001b[0m\u001b[0m\n",
            "\u001b[0;31mRuntimeError\u001b[0m: mean(): could not infer output dtype. Input dtype must be either a floating point or complex dtype. Got: Long"
          ]
        }
      ]
    },
    {
      "cell_type": "code",
      "source": [
        "x.dtype"
      ],
      "metadata": {
        "id": "R3c0qOpJabPu",
        "outputId": "bffa762d-98c7-443f-ca3c-5635ff9bb484",
        "colab": {
          "base_uri": "https://localhost:8080/"
        }
      },
      "execution_count": 33,
      "outputs": [
        {
          "output_type": "execute_result",
          "data": {
            "text/plain": [
              "torch.int64"
            ]
          },
          "metadata": {},
          "execution_count": 33
        }
      ]
    },
    {
      "cell_type": "code",
      "source": [
        "torch.mean(x.type(torch.float32))"
      ],
      "metadata": {
        "id": "SNdofJ3VSllL",
        "outputId": "f1ff9cfa-c0af-4c94-f88d-fbcf77049d9a",
        "colab": {
          "base_uri": "https://localhost:8080/"
        }
      },
      "execution_count": 31,
      "outputs": [
        {
          "output_type": "execute_result",
          "data": {
            "text/plain": [
              "tensor(49.5000)"
            ]
          },
          "metadata": {},
          "execution_count": 31
        }
      ]
    },
    {
      "cell_type": "code",
      "source": [
        "#returns the index of min and max values\n",
        "torch.argmin(x)\n",
        "torch.argmax(x)"
      ],
      "metadata": {
        "id": "sVDPlQdHSl_N",
        "colab": {
          "base_uri": "https://localhost:8080/"
        },
        "outputId": "a502530a-7d10-4dc5-9322-6ba44663034a"
      },
      "execution_count": 36,
      "outputs": [
        {
          "output_type": "execute_result",
          "data": {
            "text/plain": [
              "tensor(99)"
            ]
          },
          "metadata": {},
          "execution_count": 36
        }
      ]
    },
    {
      "cell_type": "markdown",
      "source": [
        "##Reshaping, stacking, squeezing, unsqueezing tensors\n",
        "\n",
        "reshaping - reshapes an input tensor to defined shape\n",
        "\n",
        "view - return a view of an input tensor of certain shape but keep the same memory at the original tensor \n",
        "\n",
        "stacking - combine multiple tensors on top of each other (vstack) or side by side (hstack) \n",
        "\n",
        "squeeze - remove all 1 dimensions from a tensor\n",
        "\n",
        "unsqueeze - add a 1 dimension to a target tensor\n",
        "\n",
        "permute - return a view of the input with dimensions permuted (swaapped) in a certain way"
      ],
      "metadata": {
        "id": "y0rvPoPdfxGp"
      }
    },
    {
      "cell_type": "code",
      "source": [
        "import torch \n",
        "x = torch.arange(0,10)\n",
        "x.shape  "
      ],
      "metadata": {
        "colab": {
          "base_uri": "https://localhost:8080/"
        },
        "id": "ihU-6DfSd_GB",
        "outputId": "eafceb42-fb86-4fbe-db55-f5133f9e7ffc"
      },
      "execution_count": 40,
      "outputs": [
        {
          "output_type": "execute_result",
          "data": {
            "text/plain": [
              "torch.Size([10])"
            ]
          },
          "metadata": {},
          "execution_count": 40
        }
      ]
    },
    {
      "cell_type": "code",
      "source": [
        " #adding extra dimensions\n",
        " xr = x.reshape(5,2)\n",
        " xr,xr.shape"
      ],
      "metadata": {
        "colab": {
          "base_uri": "https://localhost:8080/"
        },
        "id": "OsWN7If9d_Ii",
        "outputId": "68706bae-5700-481c-84c0-bc0ffd0f2df4"
      },
      "execution_count": 45,
      "outputs": [
        {
          "output_type": "execute_result",
          "data": {
            "text/plain": [
              "(tensor([[0, 1],\n",
              "         [2, 3],\n",
              "         [4, 5],\n",
              "         [6, 7],\n",
              "         [8, 9]]),\n",
              " torch.Size([5, 2]))"
            ]
          },
          "metadata": {},
          "execution_count": 45
        }
      ]
    },
    {
      "cell_type": "code",
      "source": [
        " #change the view\n",
        " x =  x.view(1,10)\n",
        " x,x.shape"
      ],
      "metadata": {
        "colab": {
          "base_uri": "https://localhost:8080/"
        },
        "id": "6hAhQcH4d_LQ",
        "outputId": "28bc5e7a-d7a3-4ba3-8b99-556d6c541ace"
      },
      "execution_count": 49,
      "outputs": [
        {
          "output_type": "execute_result",
          "data": {
            "text/plain": [
              "(tensor([[0, 1, 2, 3, 4, 5, 6, 7, 8, 9]]), torch.Size([1, 10]))"
            ]
          },
          "metadata": {},
          "execution_count": 49
        }
      ]
    },
    {
      "cell_type": "code",
      "source": [
        "#stack tensor on top of each other \n",
        "x = torch.arange(0,20,4)\n",
        "xs = torch.stack([x,x,x,x],dim= 1)\n",
        "xs"
      ],
      "metadata": {
        "colab": {
          "base_uri": "https://localhost:8080/"
        },
        "id": "4mE6dG7ti-nA",
        "outputId": "69aedc7c-7f9e-4628-f6fd-146ece3a0a55"
      },
      "execution_count": 54,
      "outputs": [
        {
          "output_type": "execute_result",
          "data": {
            "text/plain": [
              "tensor([[ 0,  0,  0,  0],\n",
              "        [ 4,  4,  4,  4],\n",
              "        [ 8,  8,  8,  8],\n",
              "        [12, 12, 12, 12],\n",
              "        [16, 16, 16, 16]])"
            ]
          },
          "metadata": {},
          "execution_count": 54
        }
      ]
    },
    {
      "cell_type": "code",
      "source": [
        "xs = torch.stack([x,x,x,x],dim= 0)\n",
        "xs"
      ],
      "metadata": {
        "colab": {
          "base_uri": "https://localhost:8080/"
        },
        "id": "zFVhr75do2bB",
        "outputId": "2639ff41-5776-442a-b3bf-87e29c5a0258"
      },
      "execution_count": 55,
      "outputs": [
        {
          "output_type": "execute_result",
          "data": {
            "text/plain": [
              "tensor([[ 0,  4,  8, 12, 16],\n",
              "        [ 0,  4,  8, 12, 16],\n",
              "        [ 0,  4,  8, 12, 16],\n",
              "        [ 0,  4,  8, 12, 16]])"
            ]
          },
          "metadata": {},
          "execution_count": 55
        }
      ]
    },
    {
      "cell_type": "code",
      "source": [
        "#squeeze removes all 1 dimensions from  a tensor\n",
        "x = torch.arange(1,10)\n",
        "x.shape\n",
        "x = x.reshape(1,9)"
      ],
      "metadata": {
        "id": "ldaQvl8etIyx"
      },
      "execution_count": 77,
      "outputs": []
    },
    {
      "cell_type": "code",
      "source": [
        "# torch.squeeze ( ) - removes all single dimensions from a target tensor\n",
        "print (f\"Previous tensor: {x}\")\n",
        "print (f\"Previous shape: {x.shape}\")\n",
        "# Remove extra dimensions from _reshaped\n",
        "xs = x.squeeze()\n",
        "print(f\"\\nNew tensor{xs}\")\n",
        "print(f\"New shape {xs.shape}\")"
      ],
      "metadata": {
        "colab": {
          "base_uri": "https://localhost:8080/"
        },
        "id": "QSt96bpKtMtN",
        "outputId": "3c7c5aac-1afc-4168-c938-a773d5ed126a"
      },
      "execution_count": 78,
      "outputs": [
        {
          "output_type": "stream",
          "name": "stdout",
          "text": [
            "Previous tensor: tensor([[1, 2, 3, 4, 5, 6, 7, 8, 9]])\n",
            "Previous shape: torch.Size([1, 9])\n",
            "\n",
            "New tensortensor([1, 2, 3, 4, 5, 6, 7, 8, 9])\n",
            "New shape torch.Size([9])\n"
          ]
        }
      ]
    },
    {
      "cell_type": "code",
      "source": [
        "#unsqueeze - adds a single dimension to a tatget tensor at a spesific dim\n",
        "print(f\"previus tensor: {xs}\")\n",
        "print(f\"previus tensor shape: {xs.shape}\")\n",
        "#add an extra dimension by using unsqueeze\n",
        "xu = xs.unsqueeze(dim=0)\n",
        "print(f\"\\nNew tensor: {xu}\")\n",
        "print(f\"New tensor shape: {xu.shape}\")\n"
      ],
      "metadata": {
        "colab": {
          "base_uri": "https://localhost:8080/"
        },
        "id": "ucs1em2iu9_c",
        "outputId": "08a1b9f8-aea1-4e9e-f699-371f4c3ea843"
      },
      "execution_count": 81,
      "outputs": [
        {
          "output_type": "stream",
          "name": "stdout",
          "text": [
            "previus tensor: tensor([1, 2, 3, 4, 5, 6, 7, 8, 9])\n",
            "previus tensor shape: torch.Size([9])\n",
            "\n",
            "New tensor: tensor([[1, 2, 3, 4, 5, 6, 7, 8, 9]])\n",
            "New tensor shape: torch.Size([1, 9])\n"
          ]
        }
      ]
    },
    {
      "cell_type": "code",
      "source": [
        "xu = xs.unsqueeze(dim=1)\n",
        "xu,xu.shape"
      ],
      "metadata": {
        "colab": {
          "base_uri": "https://localhost:8080/"
        },
        "id": "YmeDBS3CvRwt",
        "outputId": "fb4a2759-6dc2-4dc1-fd22-771a9e1455ea"
      },
      "execution_count": 83,
      "outputs": [
        {
          "output_type": "execute_result",
          "data": {
            "text/plain": [
              "(tensor([[1],\n",
              "         [2],\n",
              "         [3],\n",
              "         [4],\n",
              "         [5],\n",
              "         [6],\n",
              "         [7],\n",
              "         [8],\n",
              "         [9]]),\n",
              " torch.Size([9, 1]))"
            ]
          },
          "metadata": {},
          "execution_count": 83
        }
      ]
    },
    {
      "cell_type": "code",
      "source": [
        "#permute - rearanges the dimensions of a target tensor in a spesified order\n",
        "x = torch.rand(size=(224,200,3))\n",
        "xp = x.permute(2,0,1)\n",
        "print(f\"previus shape: {x.shape}\")\n",
        "print(f\"new shape{xp.shape}\")"
      ],
      "metadata": {
        "id": "bI5TjUQmzsSI",
        "outputId": "94b6d3fc-338d-43f8-e37f-4454e2f4e560",
        "colab": {
          "base_uri": "https://localhost:8080/"
        }
      },
      "execution_count": 88,
      "outputs": [
        {
          "output_type": "stream",
          "name": "stdout",
          "text": [
            "previus shape: torch.Size([224, 200, 3])\n",
            "new shapetorch.Size([3, 224, 200])\n"
          ]
        }
      ]
    },
    {
      "cell_type": "code",
      "source": [
        "#3,23"
      ],
      "metadata": {
        "id": "VFOZ1-cq0zTW"
      },
      "execution_count": 89,
      "outputs": []
    },
    {
      "cell_type": "code",
      "source": [],
      "metadata": {
        "id": "B-spHwO60zVZ"
      },
      "execution_count": null,
      "outputs": []
    },
    {
      "cell_type": "code",
      "source": [],
      "metadata": {
        "id": "NKTiRoLt0zXt"
      },
      "execution_count": null,
      "outputs": []
    }
  ]
}